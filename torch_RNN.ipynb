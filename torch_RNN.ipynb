{
 "cells": [
  {
   "cell_type": "markdown",
   "id": "f00e3bb3",
   "metadata": {},
   "source": [
    "# RNN\n",
    "make simple return neural network with pytorch"
   ]
  },
  {
   "cell_type": "markdown",
   "id": "f2bbde73",
   "metadata": {},
   "source": [
    "## add lib"
   ]
  },
  {
   "cell_type": "code",
   "execution_count": 108,
   "id": "fa91e377",
   "metadata": {},
   "outputs": [],
   "source": [
    "import numpy as np\n",
    "import torch\n",
    "import torch.nn as nn\n",
    "import torch.optim as optim"
   ]
  },
  {
   "cell_type": "markdown",
   "id": "72bb0256",
   "metadata": {},
   "source": [
    "# make data"
   ]
  },
  {
   "cell_type": "code",
   "execution_count": 109,
   "id": "fdeba2c0",
   "metadata": {},
   "outputs": [],
   "source": [
    "sequence = np.array([i for i in range(1,21)])\n",
    "x, y = [], []\n",
    "sequence_len = 3\n",
    "for i in range(len(sequence) - sequence_len):\n",
    "    x.append(sequence[i:i+sequence_len])\n",
    "    y.append(sequence[i+sequence_len])\n",
    "\n",
    "x = np.array(x, dtype=np.float32)\n",
    "y = np.array(y, dtype=np.float32)\n",
    "\n",
    "x = torch.tensor(x).unsqueeze(-1)\n",
    "y = torch.tensor(y)\n"
   ]
  },
  {
   "cell_type": "markdown",
   "id": "01880414",
   "metadata": {},
   "source": [
    "## make model's class"
   ]
  },
  {
   "cell_type": "code",
   "execution_count": 110,
   "id": "55ab6a00",
   "metadata": {},
   "outputs": [],
   "source": [
    "class RNNmodel(nn.Module):\n",
    "    def __init__(self, input_size, hidden_size, output_size):\n",
    "        super(RNNmodel, self).__init__()\n",
    "        self.hidden_size = hidden_size\n",
    "        self.rnn = nn.RNN(input_size, hidden_size, batch_first=True)\n",
    "        self.fc = nn.Linear(hidden_size, output_size)\n",
    "    \n",
    "    def forward(self, x):\n",
    "        h0 = torch.zeros(1, x.size(0), self.hidden_size)\n",
    "        out, _ = self.rnn(x, h0)\n",
    "        out = self.fc(out[:, -1, :])\n",
    "        return out\n"
   ]
  },
  {
   "cell_type": "markdown",
   "id": "ea8b21fc",
   "metadata": {},
   "source": [
    "## make model"
   ]
  },
  {
   "cell_type": "code",
   "execution_count": 111,
   "id": "5e007dea",
   "metadata": {},
   "outputs": [],
   "source": [
    "input_size = 1\n",
    "hidden_size = 50\n",
    "output_size = 1\n",
    "model = RNNmodel(input_size, hidden_size, output_size)"
   ]
  },
  {
   "cell_type": "markdown",
   "id": "56429fb6",
   "metadata": {},
   "source": [
    "## set optimizer and loss "
   ]
  },
  {
   "cell_type": "code",
   "execution_count": 112,
   "id": "ad411beb",
   "metadata": {},
   "outputs": [],
   "source": [
    "loss = nn.MSELoss()\n",
    "optimizer = optim.Adam(model.parameters(), lr=1e-3)"
   ]
  },
  {
   "cell_type": "markdown",
   "id": "0a2837d1",
   "metadata": {},
   "source": [
    "## train model"
   ]
  },
  {
   "cell_type": "code",
   "execution_count": 113,
   "id": "2c946272",
   "metadata": {},
   "outputs": [
    {
     "name": "stdout",
     "output_type": "stream",
     "text": [
      "Epoch 50/500, Loss: 70.8116\n",
      "Epoch 100/500, Loss: 41.4524\n",
      "Epoch 150/500, Loss: 30.0675\n",
      "Epoch 200/500, Loss: 25.7883\n",
      "Epoch 250/500, Loss: 24.4380\n",
      "Epoch 300/500, Loss: 24.0895\n",
      "Epoch 350/500, Loss: 24.0164\n",
      "Epoch 400/500, Loss: 24.0040\n",
      "Epoch 450/500, Loss: 24.0022\n",
      "Epoch 500/500, Loss: 24.0020\n"
     ]
    }
   ],
   "source": [
    "epochs = 500\n",
    "for epoch in range(epochs):\n",
    "    model.train()\n",
    "    optimizer.zero_grad()\n",
    "    outputs = model(x)\n",
    "    loss_t = loss(outputs, y)\n",
    "    loss_t.backward()\n",
    "    optimizer.step()\n",
    "    if (epoch + 1) % 50 == 0:\n",
    "        print(f\"Epoch {epoch+1}/{epochs}, Loss: {loss_t.item():.4f}\")\n",
    "    "
   ]
  },
  {
   "cell_type": "markdown",
   "id": "59813bf5",
   "metadata": {},
   "source": [
    "## test model"
   ]
  },
  {
   "cell_type": "code",
   "execution_count": 114,
   "id": "193a673c",
   "metadata": {},
   "outputs": [
    {
     "name": "stdout",
     "output_type": "stream",
     "text": [
      "12.019407272338867\n"
     ]
    }
   ],
   "source": [
    "model.eval()\n",
    "test_input = torch.tensor([17,18,19], dtype=torch.float32).unsqueeze(0).unsqueeze(-1)\n",
    "with torch.no_grad():\n",
    "    predicted = model(test_input)\n",
    "print(predicted.item())"
   ]
  },
  {
   "cell_type": "code",
   "execution_count": 115,
   "id": "9c59c9e5",
   "metadata": {},
   "outputs": [
    {
     "name": "stdout",
     "output_type": "stream",
     "text": [
      "Epoch 50/1000, Loss: 1225.9360\n",
      "Epoch 100/1000, Loss: 1222.7191\n",
      "Epoch 150/1000, Loss: 1219.5077\n",
      "Epoch 200/1000, Loss: 1216.2999\n",
      "Epoch 250/1000, Loss: 1213.0927\n",
      "Epoch 300/1000, Loss: 1209.8816\n",
      "Epoch 350/1000, Loss: 1206.6649\n",
      "Epoch 400/1000, Loss: 1203.4410\n",
      "Epoch 450/1000, Loss: 1200.2101\n",
      "Epoch 500/1000, Loss: 1196.9725\n",
      "Epoch 550/1000, Loss: 1193.7289\n",
      "Epoch 600/1000, Loss: 1190.4806\n",
      "Epoch 650/1000, Loss: 1187.2288\n",
      "Epoch 700/1000, Loss: 1183.9746\n",
      "Epoch 750/1000, Loss: 1180.7188\n",
      "Epoch 800/1000, Loss: 1177.4618\n",
      "Epoch 850/1000, Loss: 1174.2036\n",
      "Epoch 900/1000, Loss: 1170.9443\n",
      "Epoch 950/1000, Loss: 1167.6838\n",
      "Epoch 1000/1000, Loss: 1164.4218\n",
      "عدد پیش‌بینی‌شده بعدی: 1.53\n"
     ]
    }
   ],
   "source": [
    "import numpy as np\n",
    "import torch\n",
    "import torch.nn as nn\n",
    "import torch.optim as optim\n",
    "\n",
    "# تولید داده‌ها\n",
    "sequence = np.array([i for i in range(1, 60)])  # دنباله اصلی\n",
    "x, y = [], []\n",
    "sequence_len = 3\n",
    "for i in range(len(sequence) - sequence_len):\n",
    "    x.append(sequence[i:i + sequence_len])\n",
    "    y.append(sequence[i + sequence_len])\n",
    "\n",
    "x = np.array(x, dtype=np.float32)\n",
    "y = np.array(y, dtype=np.float32)\n",
    "\n",
    "x = torch.tensor(x).unsqueeze(-1)  # اضافه کردن بعد ویژگی\n",
    "y = torch.tensor(y)\n",
    "\n",
    "# تعریف مدل\n",
    "class RNNmodel(nn.Module):\n",
    "    def __init__(self, input_size, hidden_size, output_size):\n",
    "        super(RNNmodel, self).__init__()\n",
    "        self.hidden_size = hidden_size\n",
    "        self.rnn = nn.RNN(input_size, hidden_size, batch_first=True)\n",
    "        self.fc = nn.Linear(hidden_size, output_size)\n",
    "    \n",
    "    def forward(self, x):\n",
    "        h0 = torch.zeros(1, x.size(0), self.hidden_size)  # اصلاح حالت اولیه\n",
    "        out, _ = self.rnn(x, h0)\n",
    "        out = self.fc(out[:, -1, :])  # استفاده از خروجی آخرین گام\n",
    "        return out\n",
    "\n",
    "input_size = 1\n",
    "hidden_size = 50\n",
    "output_size = 1\n",
    "model = RNNmodel(input_size, hidden_size, output_size)\n",
    "\n",
    "# تعریف تابع هزینه و بهینه‌ساز\n",
    "loss = nn.MSELoss()\n",
    "optimizer = optim.Adam(model.parameters(), lr=1e-5)\n",
    "\n",
    "# آموزش مدل\n",
    "epochs = 1000  # افزایش تعداد epoch‌ها\n",
    "for epoch in range(epochs):\n",
    "    model.train()\n",
    "    optimizer.zero_grad()\n",
    "    outputs = model(x)\n",
    "    loss_t = loss(outputs, y)\n",
    "    loss_t.backward()\n",
    "    optimizer.step()\n",
    "    if (epoch + 1) % 50 == 0:  # اصلاح شرط چاپ\n",
    "        print(f\"Epoch {epoch+1}/{epochs}, Loss: {loss_t.item():.4f}\")\n",
    "\n",
    "# تست مدل\n",
    "model.eval()\n",
    "test_input = torch.tensor([15, 16, 17], dtype=torch.float32).unsqueeze(0).unsqueeze(-1)  # نمونه جدید\n",
    "with torch.no_grad():  # غیرفعال کردن محاسبات گراف\n",
    "    predicted = model(test_input)\n",
    "print(f\"عدد پیش‌بینی‌شده بعدی: {predicted.item():.2f}\")\n"
   ]
  }
 ],
 "metadata": {
  "kernelspec": {
   "display_name": "Python 3",
   "language": "python",
   "name": "python3"
  },
  "language_info": {
   "codemirror_mode": {
    "name": "ipython",
    "version": 3
   },
   "file_extension": ".py",
   "mimetype": "text/x-python",
   "name": "python",
   "nbconvert_exporter": "python",
   "pygments_lexer": "ipython3",
   "version": "3.12.6"
  }
 },
 "nbformat": 4,
 "nbformat_minor": 5
}
