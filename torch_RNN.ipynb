{
 "cells": [
  {
   "cell_type": "markdown",
   "id": "f00e3bb3",
   "metadata": {},
   "source": [
    "# RNN\n",
    "make simple return neural network with pytorch"
   ]
  },
  {
   "cell_type": "markdown",
   "id": "f2bbde73",
   "metadata": {},
   "source": [
    "## add lib"
   ]
  },
  {
   "cell_type": "code",
   "execution_count": 123,
   "id": "fa91e377",
   "metadata": {},
   "outputs": [],
   "source": [
    "import numpy as np\n",
    "import torch\n",
    "import torch.nn as nn\n",
    "import torch.optim as optim"
   ]
  },
  {
   "cell_type": "markdown",
   "id": "72bb0256",
   "metadata": {},
   "source": [
    "# make data"
   ]
  },
  {
   "cell_type": "code",
   "execution_count": 124,
   "id": "fdeba2c0",
   "metadata": {},
   "outputs": [],
   "source": [
    "sequence = np.array([i for i in range(1,21)])\n",
    "x, y = [], []\n",
    "sequence_len = 3\n",
    "for i in range(len(sequence) - sequence_len):\n",
    "    x.append(sequence[i:i+sequence_len])\n",
    "    y.append(sequence[i+sequence_len])\n",
    "\n",
    "x = np.array(x, dtype=np.float32)\n",
    "y = np.array(y, dtype=np.float32)\n",
    "\n",
    "x = torch.tensor(x).unsqueeze(-1)\n",
    "y = torch.tensor(y)\n"
   ]
  },
  {
   "cell_type": "markdown",
   "id": "01880414",
   "metadata": {},
   "source": [
    "## make model's class"
   ]
  },
  {
   "cell_type": "code",
   "execution_count": 125,
   "id": "55ab6a00",
   "metadata": {},
   "outputs": [],
   "source": [
    "class RNNmodel(nn.Module):\n",
    "    def __init__(self, input_size, hidden_size, output_size):\n",
    "        super(RNNmodel, self).__init__()\n",
    "        self.hidden_size = hidden_size\n",
    "        self.rnn = nn.RNN(input_size, hidden_size, batch_first=True)\n",
    "        self.fc = nn.Linear(hidden_size, output_size)\n",
    "    \n",
    "    def forward(self, x):\n",
    "        h0 = torch.zeros(1, x.size(0), self.hidden_size)\n",
    "        out, _ = self.rnn(x, h0)\n",
    "        out = self.fc(out[:, -1, :])\n",
    "        return out\n"
   ]
  },
  {
   "cell_type": "markdown",
   "id": "ea8b21fc",
   "metadata": {},
   "source": [
    "## make model"
   ]
  },
  {
   "cell_type": "code",
   "execution_count": 126,
   "id": "5e007dea",
   "metadata": {},
   "outputs": [],
   "source": [
    "input_size = 1\n",
    "hidden_size = 50\n",
    "output_size = 1\n",
    "model = RNNmodel(input_size, hidden_size, output_size)"
   ]
  },
  {
   "cell_type": "markdown",
   "id": "56429fb6",
   "metadata": {},
   "source": [
    "## set optimizer and loss "
   ]
  },
  {
   "cell_type": "code",
   "execution_count": 127,
   "id": "ad411beb",
   "metadata": {},
   "outputs": [],
   "source": [
    "loss = nn.MSELoss()\n",
    "optimizer = optim.Adam(model.parameters(), lr=1e-2)"
   ]
  },
  {
   "cell_type": "markdown",
   "id": "0a2837d1",
   "metadata": {},
   "source": [
    "## train model"
   ]
  },
  {
   "cell_type": "code",
   "execution_count": 128,
   "id": "2c946272",
   "metadata": {},
   "outputs": [
    {
     "name": "stdout",
     "output_type": "stream",
     "text": [
      "Epoch 50/200, Loss: 24.0836\n",
      "Epoch 100/200, Loss: 24.0000\n",
      "Epoch 150/200, Loss: 24.0000\n",
      "Epoch 200/200, Loss: 24.0000\n"
     ]
    }
   ],
   "source": [
    "epochs = 200\n",
    "for epoch in range(epochs):\n",
    "    model.train()\n",
    "    optimizer.zero_grad()\n",
    "    outputs = model(x)\n",
    "    loss_t = loss(outputs, y)\n",
    "    loss_t.backward()\n",
    "    optimizer.step()\n",
    "    if (epoch + 1) % 50 == 0:\n",
    "        print(f\"Epoch {epoch+1}/{epochs}, Loss: {loss_t.item():.4f}\")\n",
    "    "
   ]
  },
  {
   "cell_type": "markdown",
   "id": "59813bf5",
   "metadata": {},
   "source": [
    "## test model"
   ]
  },
  {
   "cell_type": "code",
   "execution_count": 129,
   "id": "193a673c",
   "metadata": {},
   "outputs": [
    {
     "name": "stdout",
     "output_type": "stream",
     "text": [
      "11.999540328979492\n"
     ]
    }
   ],
   "source": [
    "model.eval()\n",
    "test_input = torch.tensor([17,18,19], dtype=torch.float32).unsqueeze(0).unsqueeze(-1)\n",
    "with torch.no_grad():\n",
    "    predicted = model(test_input)\n",
    "print(predicted.item())"
   ]
  }
 ],
 "metadata": {
  "kernelspec": {
   "display_name": "Python 3",
   "language": "python",
   "name": "python3"
  },
  "language_info": {
   "codemirror_mode": {
    "name": "ipython",
    "version": 3
   },
   "file_extension": ".py",
   "mimetype": "text/x-python",
   "name": "python",
   "nbconvert_exporter": "python",
   "pygments_lexer": "ipython3",
   "version": "3.12.6"
  }
 },
 "nbformat": 4,
 "nbformat_minor": 5
}
