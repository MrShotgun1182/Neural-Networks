{
 "cells": [
  {
   "cell_type": "markdown",
   "metadata": {},
   "source": [
    "# regression"
   ]
  },
  {
   "cell_type": "code",
   "execution_count": 28,
   "metadata": {},
   "outputs": [],
   "source": [
    "import numpy as np \n",
    "import tensorflow as tf\n",
    "import keras\n",
    "import matplotlib.pyplot as plt\n",
    "from sklearn.datasets import make_regression"
   ]
  },
  {
   "cell_type": "code",
   "execution_count": 29,
   "metadata": {},
   "outputs": [],
   "source": [
    "data = make_regression(n_samples=1000, n_features=5, noise=0.2, random_state=42)"
   ]
  },
  {
   "cell_type": "code",
   "execution_count": 30,
   "metadata": {},
   "outputs": [
    {
     "name": "stdout",
     "output_type": "stream",
     "text": [
      "[ 2.05654356  0.60685059  0.48268789 -1.13088844  0.42009449]\n",
      "74.8638525346159\n"
     ]
    }
   ],
   "source": [
    "X = data[0]\n",
    "y = data[1]\n",
    "print(X[0])\n",
    "print(y[0])"
   ]
  },
  {
   "cell_type": "code",
   "execution_count": 31,
   "metadata": {},
   "outputs": [],
   "source": [
    "from sklearn.preprocessing import StandardScaler"
   ]
  },
  {
   "cell_type": "code",
   "execution_count": 32,
   "metadata": {},
   "outputs": [],
   "source": [
    "scaler = StandardScaler()\n",
    "X = scaler.fit_transform(X)"
   ]
  },
  {
   "cell_type": "code",
   "execution_count": 33,
   "metadata": {},
   "outputs": [],
   "source": [
    "from sklearn.model_selection import train_test_split\n",
    "X_train, X_test, y_train, y_test = train_test_split(X, y, test_size=0.2)"
   ]
  },
  {
   "cell_type": "code",
   "execution_count": 34,
   "metadata": {},
   "outputs": [
    {
     "name": "stdout",
     "output_type": "stream",
     "text": [
      "X train shape:  (800, 5)\n",
      "y train shape:  (800,)\n",
      "X test shape:  (200, 5)\n",
      "y test shape:  (200,)\n"
     ]
    }
   ],
   "source": [
    "print(\"X train shape: \", X_train.shape)\n",
    "print(\"y train shape: \", y_train.shape)\n",
    "print(\"X test shape: \", X_test.shape)\n",
    "print(\"y test shape: \", y_test.shape)"
   ]
  },
  {
   "cell_type": "code",
   "execution_count": 35,
   "metadata": {},
   "outputs": [],
   "source": [
    "import tensorflow as tf\n",
    "import tensorflow.keras as tfk"
   ]
  },
  {
   "cell_type": "code",
   "execution_count": 36,
   "metadata": {},
   "outputs": [],
   "source": [
    "model = tfk.models.Sequential(\n",
    "    [\n",
    "        tfk.layers.Input(shape=(5,)),\n",
    "        tfk.layers.Dense(units=16,activation='relu'),\n",
    "        tfk.layers.Dense(units=16,activation='relu'),\n",
    "        tfk.layers.Dense(units=1,activation='linear'),\n",
    "        \n",
    "    ]\n",
    ")"
   ]
  },
  {
   "cell_type": "code",
   "execution_count": 37,
   "metadata": {},
   "outputs": [
    {
     "data": {
      "text/html": [
       "<pre style=\"white-space:pre;overflow-x:auto;line-height:normal;font-family:Menlo,'DejaVu Sans Mono',consolas,'Courier New',monospace\"><span style=\"font-weight: bold\">Model: \"sequential_2\"</span>\n",
       "</pre>\n"
      ],
      "text/plain": [
       "\u001b[1mModel: \"sequential_2\"\u001b[0m\n"
      ]
     },
     "metadata": {},
     "output_type": "display_data"
    },
    {
     "data": {
      "text/html": [
       "<pre style=\"white-space:pre;overflow-x:auto;line-height:normal;font-family:Menlo,'DejaVu Sans Mono',consolas,'Courier New',monospace\">┏━━━━━━━━━━━━━━━━━━━━━━━━━━━━━━━━━┳━━━━━━━━━━━━━━━━━━━━━━━━┳━━━━━━━━━━━━━━━┓\n",
       "┃<span style=\"font-weight: bold\"> Layer (type)                    </span>┃<span style=\"font-weight: bold\"> Output Shape           </span>┃<span style=\"font-weight: bold\">       Param # </span>┃\n",
       "┡━━━━━━━━━━━━━━━━━━━━━━━━━━━━━━━━━╇━━━━━━━━━━━━━━━━━━━━━━━━╇━━━━━━━━━━━━━━━┩\n",
       "│ dense_6 (<span style=\"color: #0087ff; text-decoration-color: #0087ff\">Dense</span>)                 │ (<span style=\"color: #00d7ff; text-decoration-color: #00d7ff\">None</span>, <span style=\"color: #00af00; text-decoration-color: #00af00\">16</span>)             │            <span style=\"color: #00af00; text-decoration-color: #00af00\">96</span> │\n",
       "├─────────────────────────────────┼────────────────────────┼───────────────┤\n",
       "│ dense_7 (<span style=\"color: #0087ff; text-decoration-color: #0087ff\">Dense</span>)                 │ (<span style=\"color: #00d7ff; text-decoration-color: #00d7ff\">None</span>, <span style=\"color: #00af00; text-decoration-color: #00af00\">16</span>)             │           <span style=\"color: #00af00; text-decoration-color: #00af00\">272</span> │\n",
       "├─────────────────────────────────┼────────────────────────┼───────────────┤\n",
       "│ dense_8 (<span style=\"color: #0087ff; text-decoration-color: #0087ff\">Dense</span>)                 │ (<span style=\"color: #00d7ff; text-decoration-color: #00d7ff\">None</span>, <span style=\"color: #00af00; text-decoration-color: #00af00\">1</span>)              │            <span style=\"color: #00af00; text-decoration-color: #00af00\">17</span> │\n",
       "└─────────────────────────────────┴────────────────────────┴───────────────┘\n",
       "</pre>\n"
      ],
      "text/plain": [
       "┏━━━━━━━━━━━━━━━━━━━━━━━━━━━━━━━━━┳━━━━━━━━━━━━━━━━━━━━━━━━┳━━━━━━━━━━━━━━━┓\n",
       "┃\u001b[1m \u001b[0m\u001b[1mLayer (type)                   \u001b[0m\u001b[1m \u001b[0m┃\u001b[1m \u001b[0m\u001b[1mOutput Shape          \u001b[0m\u001b[1m \u001b[0m┃\u001b[1m \u001b[0m\u001b[1m      Param #\u001b[0m\u001b[1m \u001b[0m┃\n",
       "┡━━━━━━━━━━━━━━━━━━━━━━━━━━━━━━━━━╇━━━━━━━━━━━━━━━━━━━━━━━━╇━━━━━━━━━━━━━━━┩\n",
       "│ dense_6 (\u001b[38;5;33mDense\u001b[0m)                 │ (\u001b[38;5;45mNone\u001b[0m, \u001b[38;5;34m16\u001b[0m)             │            \u001b[38;5;34m96\u001b[0m │\n",
       "├─────────────────────────────────┼────────────────────────┼───────────────┤\n",
       "│ dense_7 (\u001b[38;5;33mDense\u001b[0m)                 │ (\u001b[38;5;45mNone\u001b[0m, \u001b[38;5;34m16\u001b[0m)             │           \u001b[38;5;34m272\u001b[0m │\n",
       "├─────────────────────────────────┼────────────────────────┼───────────────┤\n",
       "│ dense_8 (\u001b[38;5;33mDense\u001b[0m)                 │ (\u001b[38;5;45mNone\u001b[0m, \u001b[38;5;34m1\u001b[0m)              │            \u001b[38;5;34m17\u001b[0m │\n",
       "└─────────────────────────────────┴────────────────────────┴───────────────┘\n"
      ]
     },
     "metadata": {},
     "output_type": "display_data"
    },
    {
     "data": {
      "text/html": [
       "<pre style=\"white-space:pre;overflow-x:auto;line-height:normal;font-family:Menlo,'DejaVu Sans Mono',consolas,'Courier New',monospace\"><span style=\"font-weight: bold\"> Total params: </span><span style=\"color: #00af00; text-decoration-color: #00af00\">385</span> (1.50 KB)\n",
       "</pre>\n"
      ],
      "text/plain": [
       "\u001b[1m Total params: \u001b[0m\u001b[38;5;34m385\u001b[0m (1.50 KB)\n"
      ]
     },
     "metadata": {},
     "output_type": "display_data"
    },
    {
     "data": {
      "text/html": [
       "<pre style=\"white-space:pre;overflow-x:auto;line-height:normal;font-family:Menlo,'DejaVu Sans Mono',consolas,'Courier New',monospace\"><span style=\"font-weight: bold\"> Trainable params: </span><span style=\"color: #00af00; text-decoration-color: #00af00\">385</span> (1.50 KB)\n",
       "</pre>\n"
      ],
      "text/plain": [
       "\u001b[1m Trainable params: \u001b[0m\u001b[38;5;34m385\u001b[0m (1.50 KB)\n"
      ]
     },
     "metadata": {},
     "output_type": "display_data"
    },
    {
     "data": {
      "text/html": [
       "<pre style=\"white-space:pre;overflow-x:auto;line-height:normal;font-family:Menlo,'DejaVu Sans Mono',consolas,'Courier New',monospace\"><span style=\"font-weight: bold\"> Non-trainable params: </span><span style=\"color: #00af00; text-decoration-color: #00af00\">0</span> (0.00 B)\n",
       "</pre>\n"
      ],
      "text/plain": [
       "\u001b[1m Non-trainable params: \u001b[0m\u001b[38;5;34m0\u001b[0m (0.00 B)\n"
      ]
     },
     "metadata": {},
     "output_type": "display_data"
    }
   ],
   "source": [
    "model.summary()"
   ]
  },
  {
   "cell_type": "code",
   "execution_count": 38,
   "metadata": {},
   "outputs": [],
   "source": [
    "# model = tfk.models.Sequential()\n",
    "# model.add(tfk.layers.Input(shape=(5,)))\n",
    "# model.add(tfk.layers.Dense(units=16,activation='relu'))\n",
    "# model.add(tfk.layers.Dense(units=16,activation='relu'))\n",
    "# model.add(tfk.layers.Dense(units=1,activation='linear'))\n",
    "# model.summary()"
   ]
  },
  {
   "cell_type": "code",
   "execution_count": 39,
   "metadata": {},
   "outputs": [],
   "source": [
    "loss = tf.losses.MeanSquaredError()\n",
    "opt = tf.optimizers.Adam()\n",
    "model.compile(loss=loss, optimizer=opt)"
   ]
  },
  {
   "cell_type": "code",
   "execution_count": 40,
   "metadata": {},
   "outputs": [
    {
     "name": "stdout",
     "output_type": "stream",
     "text": [
      "Epoch 1/150\n",
      "8/8 - 1s - 75ms/step - loss: 4200.9175 - val_loss: 3882.6255\n",
      "Epoch 2/150\n",
      "8/8 - 0s - 5ms/step - loss: 4190.5474 - val_loss: 3873.0918\n",
      "Epoch 3/150\n",
      "8/8 - 0s - 5ms/step - loss: 4180.1040 - val_loss: 3862.8882\n",
      "Epoch 4/150\n",
      "8/8 - 0s - 5ms/step - loss: 4169.5552 - val_loss: 3851.6470\n",
      "Epoch 5/150\n",
      "8/8 - 0s - 5ms/step - loss: 4158.0928 - val_loss: 3839.2114\n",
      "Epoch 6/150\n",
      "8/8 - 0s - 5ms/step - loss: 4145.4746 - val_loss: 3825.4792\n",
      "Epoch 7/150\n",
      "8/8 - 0s - 5ms/step - loss: 4131.5234 - val_loss: 3810.1050\n",
      "Epoch 8/150\n",
      "8/8 - 0s - 5ms/step - loss: 4116.2583 - val_loss: 3791.9929\n",
      "Epoch 9/150\n",
      "8/8 - 0s - 5ms/step - loss: 4098.3779 - val_loss: 3771.3152\n",
      "Epoch 10/150\n",
      "8/8 - 0s - 5ms/step - loss: 4077.7180 - val_loss: 3746.9304\n",
      "Epoch 11/150\n",
      "8/8 - 0s - 5ms/step - loss: 4054.7024 - val_loss: 3720.0071\n",
      "Epoch 12/150\n",
      "8/8 - 0s - 5ms/step - loss: 4027.3872 - val_loss: 3690.4597\n",
      "Epoch 13/150\n",
      "8/8 - 0s - 5ms/step - loss: 3997.7979 - val_loss: 3655.4707\n",
      "Epoch 14/150\n",
      "8/8 - 0s - 5ms/step - loss: 3962.1091 - val_loss: 3616.9207\n",
      "Epoch 15/150\n",
      "8/8 - 0s - 5ms/step - loss: 3924.3215 - val_loss: 3571.3931\n",
      "Epoch 16/150\n",
      "8/8 - 0s - 5ms/step - loss: 3879.0784 - val_loss: 3519.5366\n",
      "Epoch 17/150\n",
      "8/8 - 0s - 5ms/step - loss: 3828.3767 - val_loss: 3463.6719\n",
      "Epoch 18/150\n",
      "8/8 - 0s - 5ms/step - loss: 3773.2654 - val_loss: 3401.7466\n",
      "Epoch 19/150\n",
      "8/8 - 0s - 5ms/step - loss: 3712.5486 - val_loss: 3332.0676\n",
      "Epoch 20/150\n",
      "8/8 - 0s - 5ms/step - loss: 3645.0156 - val_loss: 3257.4087\n",
      "Epoch 21/150\n",
      "8/8 - 0s - 5ms/step - loss: 3572.6692 - val_loss: 3176.5183\n",
      "Epoch 22/150\n",
      "8/8 - 0s - 5ms/step - loss: 3493.8545 - val_loss: 3090.7749\n",
      "Epoch 23/150\n",
      "8/8 - 0s - 5ms/step - loss: 3414.8284 - val_loss: 2995.6907\n",
      "Epoch 24/150\n",
      "8/8 - 0s - 5ms/step - loss: 3323.6116 - val_loss: 2899.0186\n",
      "Epoch 25/150\n",
      "8/8 - 0s - 5ms/step - loss: 3232.5247 - val_loss: 2795.3420\n",
      "Epoch 26/150\n",
      "8/8 - 0s - 5ms/step - loss: 3135.1831 - val_loss: 2688.0015\n",
      "Epoch 27/150\n",
      "8/8 - 0s - 5ms/step - loss: 3029.1719 - val_loss: 2577.5015\n",
      "Epoch 28/150\n",
      "8/8 - 0s - 5ms/step - loss: 2926.3281 - val_loss: 2462.0847\n",
      "Epoch 29/150\n",
      "8/8 - 0s - 5ms/step - loss: 2815.1326 - val_loss: 2342.9565\n",
      "Epoch 30/150\n",
      "8/8 - 0s - 5ms/step - loss: 2702.3704 - val_loss: 2226.1528\n",
      "Epoch 31/150\n",
      "8/8 - 0s - 5ms/step - loss: 2591.7085 - val_loss: 2104.3018\n",
      "Epoch 32/150\n",
      "8/8 - 0s - 5ms/step - loss: 2477.7383 - val_loss: 1987.2533\n",
      "Epoch 33/150\n",
      "8/8 - 0s - 5ms/step - loss: 2369.0393 - val_loss: 1871.0869\n",
      "Epoch 34/150\n",
      "8/8 - 0s - 5ms/step - loss: 2255.3716 - val_loss: 1757.4945\n",
      "Epoch 35/150\n",
      "8/8 - 0s - 5ms/step - loss: 2147.6309 - val_loss: 1652.2664\n",
      "Epoch 36/150\n",
      "8/8 - 0s - 5ms/step - loss: 2047.5106 - val_loss: 1551.2677\n",
      "Epoch 37/150\n",
      "8/8 - 0s - 5ms/step - loss: 1948.4104 - val_loss: 1459.1610\n",
      "Epoch 38/150\n",
      "8/8 - 0s - 5ms/step - loss: 1856.3174 - val_loss: 1373.3518\n",
      "Epoch 39/150\n",
      "8/8 - 0s - 6ms/step - loss: 1769.2476 - val_loss: 1293.5835\n",
      "Epoch 40/150\n",
      "8/8 - 0s - 5ms/step - loss: 1686.7910 - val_loss: 1218.0021\n",
      "Epoch 41/150\n",
      "8/8 - 0s - 5ms/step - loss: 1606.5876 - val_loss: 1149.0739\n",
      "Epoch 42/150\n",
      "8/8 - 0s - 5ms/step - loss: 1530.0092 - val_loss: 1083.1001\n",
      "Epoch 43/150\n",
      "8/8 - 0s - 5ms/step - loss: 1456.5272 - val_loss: 1021.5414\n",
      "Epoch 44/150\n",
      "8/8 - 0s - 5ms/step - loss: 1385.9764 - val_loss: 964.1217\n",
      "Epoch 45/150\n",
      "8/8 - 0s - 5ms/step - loss: 1317.1361 - val_loss: 909.8065\n",
      "Epoch 46/150\n",
      "8/8 - 0s - 5ms/step - loss: 1251.8015 - val_loss: 857.4783\n",
      "Epoch 47/150\n",
      "8/8 - 0s - 5ms/step - loss: 1187.1007 - val_loss: 808.3066\n",
      "Epoch 48/150\n",
      "8/8 - 0s - 5ms/step - loss: 1124.1167 - val_loss: 759.7910\n",
      "Epoch 49/150\n",
      "8/8 - 0s - 5ms/step - loss: 1060.0293 - val_loss: 714.8208\n",
      "Epoch 50/150\n",
      "8/8 - 0s - 4ms/step - loss: 1001.5515 - val_loss: 672.1428\n",
      "Epoch 51/150\n",
      "8/8 - 0s - 5ms/step - loss: 944.3883 - val_loss: 630.1946\n",
      "Epoch 52/150\n",
      "8/8 - 0s - 5ms/step - loss: 886.7292 - val_loss: 588.4783\n",
      "Epoch 53/150\n",
      "8/8 - 0s - 5ms/step - loss: 829.2198 - val_loss: 548.7631\n",
      "Epoch 54/150\n",
      "8/8 - 0s - 5ms/step - loss: 776.5647 - val_loss: 511.0375\n",
      "Epoch 55/150\n",
      "8/8 - 0s - 5ms/step - loss: 724.0956 - val_loss: 474.8160\n",
      "Epoch 56/150\n",
      "8/8 - 0s - 5ms/step - loss: 671.3745 - val_loss: 441.7004\n",
      "Epoch 57/150\n",
      "8/8 - 0s - 5ms/step - loss: 626.8591 - val_loss: 408.5101\n",
      "Epoch 58/150\n",
      "8/8 - 0s - 5ms/step - loss: 579.3349 - val_loss: 378.4651\n",
      "Epoch 59/150\n",
      "8/8 - 0s - 5ms/step - loss: 534.5948 - val_loss: 350.8619\n",
      "Epoch 60/150\n",
      "8/8 - 0s - 5ms/step - loss: 494.2357 - val_loss: 323.3211\n",
      "Epoch 61/150\n",
      "8/8 - 0s - 5ms/step - loss: 455.3342 - val_loss: 299.0908\n",
      "Epoch 62/150\n",
      "8/8 - 0s - 5ms/step - loss: 419.9777 - val_loss: 277.3381\n",
      "Epoch 63/150\n",
      "8/8 - 0s - 5ms/step - loss: 387.5385 - val_loss: 257.6621\n",
      "Epoch 64/150\n",
      "8/8 - 0s - 5ms/step - loss: 356.8679 - val_loss: 240.1311\n",
      "Epoch 65/150\n",
      "8/8 - 0s - 5ms/step - loss: 331.4859 - val_loss: 223.5020\n",
      "Epoch 66/150\n",
      "8/8 - 0s - 5ms/step - loss: 305.2102 - val_loss: 208.4912\n",
      "Epoch 67/150\n",
      "8/8 - 0s - 5ms/step - loss: 281.2964 - val_loss: 194.6934\n",
      "Epoch 68/150\n",
      "8/8 - 0s - 5ms/step - loss: 259.5448 - val_loss: 182.8616\n",
      "Epoch 69/150\n",
      "8/8 - 0s - 5ms/step - loss: 240.0534 - val_loss: 171.8118\n",
      "Epoch 70/150\n",
      "8/8 - 0s - 5ms/step - loss: 222.3257 - val_loss: 162.4792\n",
      "Epoch 71/150\n",
      "8/8 - 0s - 5ms/step - loss: 207.0757 - val_loss: 154.3934\n",
      "Epoch 72/150\n",
      "8/8 - 0s - 5ms/step - loss: 193.2377 - val_loss: 147.2006\n",
      "Epoch 73/150\n",
      "8/8 - 0s - 5ms/step - loss: 181.2426 - val_loss: 140.5711\n",
      "Epoch 74/150\n",
      "8/8 - 0s - 5ms/step - loss: 170.5856 - val_loss: 134.8082\n",
      "Epoch 75/150\n",
      "8/8 - 0s - 5ms/step - loss: 160.5525 - val_loss: 129.7251\n",
      "Epoch 76/150\n",
      "8/8 - 0s - 5ms/step - loss: 152.1304 - val_loss: 124.9687\n",
      "Epoch 77/150\n",
      "8/8 - 0s - 5ms/step - loss: 143.8284 - val_loss: 120.4418\n",
      "Epoch 78/150\n",
      "8/8 - 0s - 5ms/step - loss: 135.8670 - val_loss: 116.2661\n",
      "Epoch 79/150\n",
      "8/8 - 0s - 5ms/step - loss: 129.5423 - val_loss: 112.5621\n",
      "Epoch 80/150\n",
      "8/8 - 0s - 5ms/step - loss: 123.2687 - val_loss: 109.2797\n",
      "Epoch 81/150\n",
      "8/8 - 0s - 7ms/step - loss: 117.8434 - val_loss: 105.8631\n",
      "Epoch 82/150\n",
      "8/8 - 0s - 5ms/step - loss: 112.3523 - val_loss: 102.4624\n",
      "Epoch 83/150\n",
      "8/8 - 0s - 5ms/step - loss: 107.5579 - val_loss: 99.0878\n",
      "Epoch 84/150\n",
      "8/8 - 0s - 5ms/step - loss: 103.3850 - val_loss: 96.1314\n",
      "Epoch 85/150\n",
      "8/8 - 0s - 5ms/step - loss: 99.2513 - val_loss: 93.1065\n",
      "Epoch 86/150\n",
      "8/8 - 0s - 5ms/step - loss: 95.3310 - val_loss: 89.8962\n",
      "Epoch 87/150\n",
      "8/8 - 0s - 5ms/step - loss: 91.4064 - val_loss: 86.7645\n",
      "Epoch 88/150\n",
      "8/8 - 0s - 5ms/step - loss: 87.7625 - val_loss: 83.8212\n",
      "Epoch 89/150\n",
      "8/8 - 0s - 5ms/step - loss: 84.1020 - val_loss: 80.7651\n",
      "Epoch 90/150\n",
      "8/8 - 0s - 5ms/step - loss: 81.0096 - val_loss: 77.6416\n",
      "Epoch 91/150\n",
      "8/8 - 0s - 5ms/step - loss: 77.8957 - val_loss: 75.2287\n",
      "Epoch 92/150\n",
      "8/8 - 0s - 5ms/step - loss: 75.2475 - val_loss: 72.8657\n",
      "Epoch 93/150\n",
      "8/8 - 0s - 5ms/step - loss: 72.5729 - val_loss: 70.5300\n",
      "Epoch 94/150\n",
      "8/8 - 0s - 4ms/step - loss: 69.8364 - val_loss: 68.5720\n",
      "Epoch 95/150\n",
      "8/8 - 0s - 5ms/step - loss: 67.3216 - val_loss: 66.5818\n",
      "Epoch 96/150\n",
      "8/8 - 0s - 5ms/step - loss: 65.1150 - val_loss: 64.7976\n",
      "Epoch 97/150\n",
      "8/8 - 0s - 5ms/step - loss: 63.1447 - val_loss: 63.1736\n",
      "Epoch 98/150\n",
      "8/8 - 0s - 5ms/step - loss: 61.4244 - val_loss: 61.4198\n",
      "Epoch 99/150\n",
      "8/8 - 0s - 5ms/step - loss: 59.8948 - val_loss: 59.9999\n",
      "Epoch 100/150\n",
      "8/8 - 0s - 5ms/step - loss: 58.4657 - val_loss: 58.8252\n",
      "Epoch 101/150\n",
      "8/8 - 0s - 5ms/step - loss: 57.0768 - val_loss: 57.9141\n",
      "Epoch 102/150\n",
      "8/8 - 0s - 5ms/step - loss: 55.8457 - val_loss: 56.7993\n",
      "Epoch 103/150\n",
      "8/8 - 0s - 5ms/step - loss: 54.6877 - val_loss: 56.2219\n",
      "Epoch 104/150\n",
      "8/8 - 0s - 5ms/step - loss: 53.3505 - val_loss: 55.3308\n",
      "Epoch 105/150\n",
      "8/8 - 0s - 5ms/step - loss: 52.1686 - val_loss: 54.4547\n",
      "Epoch 106/150\n",
      "8/8 - 0s - 5ms/step - loss: 51.0085 - val_loss: 53.2324\n",
      "Epoch 107/150\n",
      "8/8 - 0s - 5ms/step - loss: 50.0742 - val_loss: 52.1984\n",
      "Epoch 108/150\n",
      "8/8 - 0s - 5ms/step - loss: 49.1228 - val_loss: 51.5570\n",
      "Epoch 109/150\n",
      "8/8 - 0s - 5ms/step - loss: 48.2626 - val_loss: 50.9045\n",
      "Epoch 110/150\n",
      "8/8 - 0s - 5ms/step - loss: 47.6021 - val_loss: 50.2176\n",
      "Epoch 111/150\n",
      "8/8 - 0s - 5ms/step - loss: 46.9194 - val_loss: 49.4112\n",
      "Epoch 112/150\n",
      "8/8 - 0s - 5ms/step - loss: 46.3102 - val_loss: 48.5432\n",
      "Epoch 113/150\n",
      "8/8 - 0s - 5ms/step - loss: 45.6929 - val_loss: 47.9826\n",
      "Epoch 114/150\n",
      "8/8 - 0s - 5ms/step - loss: 45.1300 - val_loss: 47.7397\n",
      "Epoch 115/150\n",
      "8/8 - 0s - 5ms/step - loss: 44.6156 - val_loss: 47.4935\n",
      "Epoch 116/150\n",
      "8/8 - 0s - 5ms/step - loss: 44.1147 - val_loss: 47.1885\n",
      "Epoch 117/150\n",
      "8/8 - 0s - 5ms/step - loss: 43.5320 - val_loss: 46.5606\n",
      "Epoch 118/150\n",
      "8/8 - 0s - 5ms/step - loss: 43.1178 - val_loss: 45.8618\n",
      "Epoch 119/150\n",
      "8/8 - 0s - 5ms/step - loss: 42.7094 - val_loss: 45.4795\n",
      "Epoch 120/150\n",
      "8/8 - 0s - 5ms/step - loss: 42.3578 - val_loss: 45.1924\n",
      "Epoch 121/150\n",
      "8/8 - 0s - 5ms/step - loss: 41.9617 - val_loss: 44.6750\n",
      "Epoch 122/150\n",
      "8/8 - 0s - 5ms/step - loss: 41.6413 - val_loss: 44.2211\n",
      "Epoch 123/150\n",
      "8/8 - 0s - 5ms/step - loss: 41.3477 - val_loss: 43.8668\n",
      "Epoch 124/150\n",
      "8/8 - 0s - 5ms/step - loss: 41.0075 - val_loss: 43.6796\n",
      "Epoch 125/150\n",
      "8/8 - 0s - 5ms/step - loss: 40.7088 - val_loss: 43.5742\n",
      "Epoch 126/150\n",
      "8/8 - 0s - 5ms/step - loss: 40.4539 - val_loss: 43.6023\n",
      "Epoch 127/150\n",
      "8/8 - 0s - 6ms/step - loss: 40.2119 - val_loss: 43.0601\n",
      "Epoch 128/150\n",
      "8/8 - 0s - 5ms/step - loss: 39.9339 - val_loss: 42.3548\n",
      "Epoch 129/150\n",
      "8/8 - 0s - 5ms/step - loss: 39.5586 - val_loss: 41.9903\n",
      "Epoch 130/150\n",
      "8/8 - 0s - 5ms/step - loss: 39.2843 - val_loss: 41.8058\n",
      "Epoch 131/150\n",
      "8/8 - 0s - 5ms/step - loss: 38.9888 - val_loss: 41.5358\n",
      "Epoch 132/150\n",
      "8/8 - 0s - 5ms/step - loss: 38.8938 - val_loss: 41.6823\n",
      "Epoch 133/150\n",
      "8/8 - 0s - 5ms/step - loss: 38.5836 - val_loss: 41.0050\n",
      "Epoch 134/150\n",
      "8/8 - 0s - 5ms/step - loss: 38.2554 - val_loss: 41.1119\n",
      "Epoch 135/150\n",
      "8/8 - 0s - 5ms/step - loss: 38.0559 - val_loss: 40.7684\n",
      "Epoch 136/150\n",
      "8/8 - 0s - 5ms/step - loss: 37.6667 - val_loss: 40.3342\n",
      "Epoch 137/150\n",
      "8/8 - 0s - 5ms/step - loss: 37.3952 - val_loss: 40.0346\n",
      "Epoch 138/150\n",
      "8/8 - 0s - 5ms/step - loss: 37.1391 - val_loss: 39.5788\n",
      "Epoch 139/150\n",
      "8/8 - 0s - 5ms/step - loss: 36.8914 - val_loss: 39.2686\n",
      "Epoch 140/150\n",
      "8/8 - 0s - 4ms/step - loss: 36.6291 - val_loss: 39.1656\n",
      "Epoch 141/150\n",
      "8/8 - 0s - 5ms/step - loss: 36.3498 - val_loss: 38.7782\n",
      "Epoch 142/150\n",
      "8/8 - 0s - 5ms/step - loss: 36.1906 - val_loss: 38.1202\n",
      "Epoch 143/150\n",
      "8/8 - 0s - 5ms/step - loss: 35.8905 - val_loss: 37.7997\n",
      "Epoch 144/150\n",
      "8/8 - 0s - 5ms/step - loss: 35.6444 - val_loss: 37.7190\n",
      "Epoch 145/150\n",
      "8/8 - 0s - 5ms/step - loss: 35.4327 - val_loss: 37.7001\n",
      "Epoch 146/150\n",
      "8/8 - 0s - 5ms/step - loss: 35.0984 - val_loss: 37.3487\n",
      "Epoch 147/150\n",
      "8/8 - 0s - 5ms/step - loss: 34.8536 - val_loss: 36.9193\n",
      "Epoch 148/150\n",
      "8/8 - 0s - 5ms/step - loss: 34.6060 - val_loss: 36.4887\n",
      "Epoch 149/150\n",
      "8/8 - 0s - 5ms/step - loss: 34.3740 - val_loss: 36.2501\n",
      "Epoch 150/150\n",
      "8/8 - 0s - 5ms/step - loss: 34.1242 - val_loss: 36.1077\n"
     ]
    },
    {
     "data": {
      "text/plain": [
       "<keras.src.callbacks.history.History at 0x21387729970>"
      ]
     },
     "execution_count": 40,
     "metadata": {},
     "output_type": "execute_result"
    }
   ],
   "source": [
    "model.fit(X_train, y_train, validation_split=0.1, epochs=150, batch_size=100, verbose=2)"
   ]
  },
  {
   "cell_type": "code",
   "execution_count": 41,
   "metadata": {},
   "outputs": [
    {
     "name": "stdout",
     "output_type": "stream",
     "text": [
      "\u001b[1m25/25\u001b[0m \u001b[32m━━━━━━━━━━━━━━━━━━━━\u001b[0m\u001b[37m\u001b[0m \u001b[1m0s\u001b[0m 521us/step - loss: 35.5593\n"
     ]
    },
    {
     "data": {
      "text/plain": [
       "34.17951965332031"
      ]
     },
     "execution_count": 41,
     "metadata": {},
     "output_type": "execute_result"
    }
   ],
   "source": [
    "model.evaluate(X_train, y_train)"
   ]
  },
  {
   "cell_type": "code",
   "execution_count": 42,
   "metadata": {},
   "outputs": [
    {
     "name": "stdout",
     "output_type": "stream",
     "text": [
      "\u001b[1m7/7\u001b[0m \u001b[32m━━━━━━━━━━━━━━━━━━━━\u001b[0m\u001b[37m\u001b[0m \u001b[1m0s\u001b[0m 1ms/step - loss: 25.6726 \n"
     ]
    },
    {
     "data": {
      "text/plain": [
       "27.005016326904297"
      ]
     },
     "execution_count": 42,
     "metadata": {},
     "output_type": "execute_result"
    }
   ],
   "source": [
    "model.evaluate(X_test, y_test)"
   ]
  },
  {
   "cell_type": "code",
   "execution_count": 43,
   "metadata": {},
   "outputs": [
    {
     "name": "stdout",
     "output_type": "stream",
     "text": [
      "\u001b[1m7/7\u001b[0m \u001b[32m━━━━━━━━━━━━━━━━━━━━\u001b[0m\u001b[37m\u001b[0m \u001b[1m0s\u001b[0m 3ms/step \n"
     ]
    }
   ],
   "source": [
    "y_pred = model.predict(X_test)"
   ]
  },
  {
   "cell_type": "code",
   "execution_count": 44,
   "metadata": {},
   "outputs": [
    {
     "data": {
      "text/plain": [
       "(200, 1)"
      ]
     },
     "execution_count": 44,
     "metadata": {},
     "output_type": "execute_result"
    }
   ],
   "source": [
    "y_pred.shape"
   ]
  },
  {
   "cell_type": "code",
   "execution_count": 46,
   "metadata": {},
   "outputs": [
    {
     "data": {
      "text/plain": [
       "<matplotlib.collections.PathCollection at 0x2138897a300>"
      ]
     },
     "execution_count": 46,
     "metadata": {},
     "output_type": "execute_result"
    },
    {
     "data": {
      "image/png": "[encoded data removed]",
      "text/plain": [
       "<Figure size 640x480 with 1 Axes>"
      ]
     },
     "metadata": {},
     "output_type": "display_data"
    }
   ],
   "source": [
    "plt.scatter(y_pred[:10], range(10), color='red')\n",
    "plt.scatter(y_test[:10], range(10), color='blue')"
   ]
  }
 ],
 "metadata": {
  "kernelspec": {
   "display_name": "Python 3",
   "language": "python",
   "name": "python3"
  },
  "language_info": {
   "codemirror_mode": {
    "name": "ipython",
    "version": 3
   },
   "file_extension": ".py",
   "mimetype": "text/x-python",
   "name": "python",
   "nbconvert_exporter": "python",
   "pygments_lexer": "ipython3",
   "version": "3.12.4"
  }
 },
 "nbformat": 4,
 "nbformat_minor": 2
}
