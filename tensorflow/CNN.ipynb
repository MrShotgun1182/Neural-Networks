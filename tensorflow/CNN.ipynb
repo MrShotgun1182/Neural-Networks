{
 "cells": [
  {
   "cell_type": "markdown",
   "metadata": {},
   "source": [
    "# CNN"
   ]
  },
  {
   "cell_type": "code",
   "execution_count": 2,
   "metadata": {},
   "outputs": [],
   "source": [
    "from keras.datasets import fashion_mnist"
   ]
  },
  {
   "cell_type": "code",
   "execution_count": 3,
   "metadata": {},
   "outputs": [],
   "source": [
    "(X_train, y_train), (X_test, y_test) = fashion_mnist.load_data()"
   ]
  },
  {
   "cell_type": "code",
   "execution_count": 4,
   "metadata": {},
   "outputs": [],
   "source": [
    "class_name = {\n",
    "       0: \"T-shirt/top\",\n",
    "       1: \"Trouser\",\n",
    "       2: \"Pullover\",\n",
    "       3: \"Dress\",\n",
    "       4: \"Coat\",\n",
    "       5: \"Sandal\",\n",
    "       6: \"Shirt\",\n",
    "       7: \"Sneaker\",\n",
    "       8: \"Bag\",\n",
    "       9: \"Ankle boot\",\n",
    "}"
   ]
  },
  {
   "cell_type": "code",
   "execution_count": 5,
   "metadata": {},
   "outputs": [],
   "source": [
    "X_train = X_train / 255\n",
    "X_test = X_test / 255"
   ]
  },
  {
   "cell_type": "code",
   "execution_count": 6,
   "metadata": {},
   "outputs": [],
   "source": [
    "from keras.utils import to_categorical"
   ]
  },
  {
   "cell_type": "code",
   "execution_count": 7,
   "metadata": {},
   "outputs": [],
   "source": [
    "y_train = to_categorical(y_train, num_classes=10)\n",
    "y_test = to_categorical(y_test, num_classes=10)"
   ]
  },
  {
   "cell_type": "code",
   "execution_count": 12,
   "metadata": {},
   "outputs": [],
   "source": [
    "from keras.layers import Dense, Input, Conv2D, MaxPool2D, Flatten\n",
    "from keras.models import Sequential"
   ]
  },
  {
   "cell_type": "code",
   "execution_count": 13,
   "metadata": {},
   "outputs": [],
   "source": [
    "model = Sequential()\n",
    "model.add(Input((28,28,1)))\n",
    "model.add(Conv2D(filters=16, kernel_size=(3,3), strides=1, activation='relu', padding='same'))\n",
    "model.add(MaxPool2D())\n",
    "model.add(Conv2D(filters=32, kernel_size=(3,3), strides=1, activation='relu', padding='same'))\n",
    "model.add(MaxPool2D())\n",
    "model.add(Conv2D(filters=64, kernel_size=(3,3), strides=1, activation='relu', padding='same'))\n",
    "model.add(Flatten())\n",
    "model.add(Dense(128, activation='relu'))\n",
    "model.add(Dense(10, activation='softmax'))"
   ]
  },
  {
   "cell_type": "code",
   "execution_count": 15,
   "metadata": {},
   "outputs": [],
   "source": [
    "import tensorflow as tf"
   ]
  },
  {
   "cell_type": "code",
   "execution_count": 16,
   "metadata": {},
   "outputs": [],
   "source": [
    "loss = tf.losses.CategoricalCrossentropy()\n",
    "opt = tf.optimizers.Adam()\n",
    "metric = tf.metrics.CategoricalAccuracy()\n",
    "model.compile(loss=loss, optimizer=opt, metrics=[metric])"
   ]
  },
  {
   "cell_type": "code",
   "execution_count": 17,
   "metadata": {},
   "outputs": [
    {
     "name": "stdout",
     "output_type": "stream",
     "text": [
      "Epoch 1/50\n",
      "\u001b[1m960/960\u001b[0m \u001b[32m━━━━━━━━━━━━━━━━━━━━\u001b[0m\u001b[37m\u001b[0m \u001b[1m5s\u001b[0m 4ms/step - categorical_accuracy: 0.7573 - loss: 0.6751 - val_categorical_accuracy: 0.8753 - val_loss: 0.3438\n",
      "Epoch 2/50\n",
      "\u001b[1m960/960\u001b[0m \u001b[32m━━━━━━━━━━━━━━━━━━━━\u001b[0m\u001b[37m\u001b[0m \u001b[1m4s\u001b[0m 4ms/step - categorical_accuracy: 0.8847 - loss: 0.3153 - val_categorical_accuracy: 0.8883 - val_loss: 0.3081\n",
      "Epoch 3/50\n",
      "\u001b[1m960/960\u001b[0m \u001b[32m━━━━━━━━━━━━━━━━━━━━\u001b[0m\u001b[37m\u001b[0m \u001b[1m4s\u001b[0m 4ms/step - categorical_accuracy: 0.9037 - loss: 0.2588 - val_categorical_accuracy: 0.9049 - val_loss: 0.2639\n",
      "Epoch 4/50\n",
      "\u001b[1m960/960\u001b[0m \u001b[32m━━━━━━━━━━━━━━━━━━━━\u001b[0m\u001b[37m\u001b[0m \u001b[1m4s\u001b[0m 4ms/step - categorical_accuracy: 0.9195 - loss: 0.2237 - val_categorical_accuracy: 0.8984 - val_loss: 0.2709\n",
      "Epoch 5/50\n",
      "\u001b[1m960/960\u001b[0m \u001b[32m━━━━━━━━━━━━━━━━━━━━\u001b[0m\u001b[37m\u001b[0m \u001b[1m4s\u001b[0m 4ms/step - categorical_accuracy: 0.9281 - loss: 0.1926 - val_categorical_accuracy: 0.9090 - val_loss: 0.2465\n",
      "Epoch 6/50\n",
      "\u001b[1m960/960\u001b[0m \u001b[32m━━━━━━━━━━━━━━━━━━━━\u001b[0m\u001b[37m\u001b[0m \u001b[1m4s\u001b[0m 4ms/step - categorical_accuracy: 0.9358 - loss: 0.1730 - val_categorical_accuracy: 0.9168 - val_loss: 0.2313\n",
      "Epoch 7/50\n",
      "\u001b[1m960/960\u001b[0m \u001b[32m━━━━━━━━━━━━━━━━━━━━\u001b[0m\u001b[37m\u001b[0m \u001b[1m4s\u001b[0m 4ms/step - categorical_accuracy: 0.9452 - loss: 0.1503 - val_categorical_accuracy: 0.9161 - val_loss: 0.2374\n",
      "Epoch 8/50\n",
      "\u001b[1m960/960\u001b[0m \u001b[32m━━━━━━━━━━━━━━━━━━━━\u001b[0m\u001b[37m\u001b[0m \u001b[1m4s\u001b[0m 4ms/step - categorical_accuracy: 0.9517 - loss: 0.1293 - val_categorical_accuracy: 0.9175 - val_loss: 0.2400\n",
      "Epoch 9/50\n",
      "\u001b[1m960/960\u001b[0m \u001b[32m━━━━━━━━━━━━━━━━━━━━\u001b[0m\u001b[37m\u001b[0m \u001b[1m4s\u001b[0m 4ms/step - categorical_accuracy: 0.9597 - loss: 0.1102 - val_categorical_accuracy: 0.9084 - val_loss: 0.2875\n",
      "Epoch 10/50\n",
      "\u001b[1m960/960\u001b[0m \u001b[32m━━━━━━━━━━━━━━━━━━━━\u001b[0m\u001b[37m\u001b[0m \u001b[1m4s\u001b[0m 4ms/step - categorical_accuracy: 0.9643 - loss: 0.0987 - val_categorical_accuracy: 0.9095 - val_loss: 0.2913\n",
      "Epoch 11/50\n",
      "\u001b[1m960/960\u001b[0m \u001b[32m━━━━━━━━━━━━━━━━━━━━\u001b[0m\u001b[37m\u001b[0m \u001b[1m4s\u001b[0m 4ms/step - categorical_accuracy: 0.9707 - loss: 0.0791 - val_categorical_accuracy: 0.9210 - val_loss: 0.2912\n",
      "Epoch 12/50\n",
      "\u001b[1m960/960\u001b[0m \u001b[32m━━━━━━━━━━━━━━━━━━━━\u001b[0m\u001b[37m\u001b[0m \u001b[1m4s\u001b[0m 4ms/step - categorical_accuracy: 0.9764 - loss: 0.0662 - val_categorical_accuracy: 0.9169 - val_loss: 0.2985\n",
      "Epoch 13/50\n",
      "\u001b[1m960/960\u001b[0m \u001b[32m━━━━━━━━━━━━━━━━━━━━\u001b[0m\u001b[37m\u001b[0m \u001b[1m4s\u001b[0m 4ms/step - categorical_accuracy: 0.9790 - loss: 0.0566 - val_categorical_accuracy: 0.9153 - val_loss: 0.3203\n",
      "Epoch 14/50\n",
      "\u001b[1m960/960\u001b[0m \u001b[32m━━━━━━━━━━━━━━━━━━━━\u001b[0m\u001b[37m\u001b[0m \u001b[1m4s\u001b[0m 4ms/step - categorical_accuracy: 0.9812 - loss: 0.0502 - val_categorical_accuracy: 0.9164 - val_loss: 0.3700\n",
      "Epoch 15/50\n",
      "\u001b[1m960/960\u001b[0m \u001b[32m━━━━━━━━━━━━━━━━━━━━\u001b[0m\u001b[37m\u001b[0m \u001b[1m4s\u001b[0m 4ms/step - categorical_accuracy: 0.9834 - loss: 0.0443 - val_categorical_accuracy: 0.9153 - val_loss: 0.3549\n",
      "Epoch 16/50\n",
      "\u001b[1m960/960\u001b[0m \u001b[32m━━━━━━━━━━━━━━━━━━━━\u001b[0m\u001b[37m\u001b[0m \u001b[1m4s\u001b[0m 4ms/step - categorical_accuracy: 0.9873 - loss: 0.0361 - val_categorical_accuracy: 0.9107 - val_loss: 0.4170\n",
      "Epoch 17/50\n",
      "\u001b[1m960/960\u001b[0m \u001b[32m━━━━━━━━━━━━━━━━━━━━\u001b[0m\u001b[37m\u001b[0m \u001b[1m4s\u001b[0m 4ms/step - categorical_accuracy: 0.9874 - loss: 0.0333 - val_categorical_accuracy: 0.9118 - val_loss: 0.4327\n",
      "Epoch 18/50\n",
      "\u001b[1m960/960\u001b[0m \u001b[32m━━━━━━━━━━━━━━━━━━━━\u001b[0m\u001b[37m\u001b[0m \u001b[1m4s\u001b[0m 4ms/step - categorical_accuracy: 0.9856 - loss: 0.0369 - val_categorical_accuracy: 0.9166 - val_loss: 0.4490\n",
      "Epoch 19/50\n",
      "\u001b[1m960/960\u001b[0m \u001b[32m━━━━━━━━━━━━━━━━━━━━\u001b[0m\u001b[37m\u001b[0m \u001b[1m4s\u001b[0m 4ms/step - categorical_accuracy: 0.9900 - loss: 0.0276 - val_categorical_accuracy: 0.9127 - val_loss: 0.4918\n",
      "Epoch 20/50\n",
      "\u001b[1m960/960\u001b[0m \u001b[32m━━━━━━━━━━━━━━━━━━━━\u001b[0m\u001b[37m\u001b[0m \u001b[1m4s\u001b[0m 4ms/step - categorical_accuracy: 0.9929 - loss: 0.0211 - val_categorical_accuracy: 0.9182 - val_loss: 0.4668\n",
      "Epoch 21/50\n",
      "\u001b[1m960/960\u001b[0m \u001b[32m━━━━━━━━━━━━━━━━━━━━\u001b[0m\u001b[37m\u001b[0m \u001b[1m4s\u001b[0m 4ms/step - categorical_accuracy: 0.9915 - loss: 0.0239 - val_categorical_accuracy: 0.9122 - val_loss: 0.5478\n",
      "Epoch 22/50\n",
      "\u001b[1m960/960\u001b[0m \u001b[32m━━━━━━━━━━━━━━━━━━━━\u001b[0m\u001b[37m\u001b[0m \u001b[1m4s\u001b[0m 4ms/step - categorical_accuracy: 0.9902 - loss: 0.0291 - val_categorical_accuracy: 0.9127 - val_loss: 0.5062\n",
      "Epoch 23/50\n",
      "\u001b[1m960/960\u001b[0m \u001b[32m━━━━━━━━━━━━━━━━━━━━\u001b[0m\u001b[37m\u001b[0m \u001b[1m4s\u001b[0m 4ms/step - categorical_accuracy: 0.9914 - loss: 0.0219 - val_categorical_accuracy: 0.9122 - val_loss: 0.5914\n",
      "Epoch 24/50\n",
      "\u001b[1m960/960\u001b[0m \u001b[32m━━━━━━━━━━━━━━━━━━━━\u001b[0m\u001b[37m\u001b[0m \u001b[1m4s\u001b[0m 4ms/step - categorical_accuracy: 0.9933 - loss: 0.0204 - val_categorical_accuracy: 0.9158 - val_loss: 0.5345\n",
      "Epoch 25/50\n",
      "\u001b[1m960/960\u001b[0m \u001b[32m━━━━━━━━━━━━━━━━━━━━\u001b[0m\u001b[37m\u001b[0m \u001b[1m4s\u001b[0m 4ms/step - categorical_accuracy: 0.9944 - loss: 0.0172 - val_categorical_accuracy: 0.9114 - val_loss: 0.6024\n",
      "Epoch 26/50\n",
      "\u001b[1m960/960\u001b[0m \u001b[32m━━━━━━━━━━━━━━━━━━━━\u001b[0m\u001b[37m\u001b[0m \u001b[1m4s\u001b[0m 4ms/step - categorical_accuracy: 0.9925 - loss: 0.0226 - val_categorical_accuracy: 0.9128 - val_loss: 0.5785\n",
      "Epoch 27/50\n",
      "\u001b[1m960/960\u001b[0m \u001b[32m━━━━━━━━━━━━━━━━━━━━\u001b[0m\u001b[37m\u001b[0m \u001b[1m4s\u001b[0m 4ms/step - categorical_accuracy: 0.9935 - loss: 0.0189 - val_categorical_accuracy: 0.9072 - val_loss: 0.5633\n",
      "Epoch 28/50\n",
      "\u001b[1m960/960\u001b[0m \u001b[32m━━━━━━━━━━━━━━━━━━━━\u001b[0m\u001b[37m\u001b[0m \u001b[1m4s\u001b[0m 4ms/step - categorical_accuracy: 0.9947 - loss: 0.0160 - val_categorical_accuracy: 0.9123 - val_loss: 0.6022\n",
      "Epoch 29/50\n",
      "\u001b[1m960/960\u001b[0m \u001b[32m━━━━━━━━━━━━━━━━━━━━\u001b[0m\u001b[37m\u001b[0m \u001b[1m4s\u001b[0m 4ms/step - categorical_accuracy: 0.9945 - loss: 0.0154 - val_categorical_accuracy: 0.9104 - val_loss: 0.6317\n",
      "Epoch 30/50\n",
      "\u001b[1m960/960\u001b[0m \u001b[32m━━━━━━━━━━━━━━━━━━━━\u001b[0m\u001b[37m\u001b[0m \u001b[1m4s\u001b[0m 4ms/step - categorical_accuracy: 0.9954 - loss: 0.0138 - val_categorical_accuracy: 0.9100 - val_loss: 0.6497\n",
      "Epoch 31/50\n",
      "\u001b[1m960/960\u001b[0m \u001b[32m━━━━━━━━━━━━━━━━━━━━\u001b[0m\u001b[37m\u001b[0m \u001b[1m4s\u001b[0m 4ms/step - categorical_accuracy: 0.9948 - loss: 0.0162 - val_categorical_accuracy: 0.9112 - val_loss: 0.6323\n",
      "Epoch 32/50\n",
      "\u001b[1m960/960\u001b[0m \u001b[32m━━━━━━━━━━━━━━━━━━━━\u001b[0m\u001b[37m\u001b[0m \u001b[1m4s\u001b[0m 4ms/step - categorical_accuracy: 0.9944 - loss: 0.0165 - val_categorical_accuracy: 0.9129 - val_loss: 0.6840\n",
      "Epoch 33/50\n",
      "\u001b[1m960/960\u001b[0m \u001b[32m━━━━━━━━━━━━━━━━━━━━\u001b[0m\u001b[37m\u001b[0m \u001b[1m4s\u001b[0m 4ms/step - categorical_accuracy: 0.9955 - loss: 0.0119 - val_categorical_accuracy: 0.9154 - val_loss: 0.6496\n",
      "Epoch 34/50\n",
      "\u001b[1m960/960\u001b[0m \u001b[32m━━━━━━━━━━━━━━━━━━━━\u001b[0m\u001b[37m\u001b[0m \u001b[1m4s\u001b[0m 4ms/step - categorical_accuracy: 0.9952 - loss: 0.0152 - val_categorical_accuracy: 0.9083 - val_loss: 0.8359\n",
      "Epoch 35/50\n",
      "\u001b[1m960/960\u001b[0m \u001b[32m━━━━━━━━━━━━━━━━━━━━\u001b[0m\u001b[37m\u001b[0m \u001b[1m4s\u001b[0m 4ms/step - categorical_accuracy: 0.9945 - loss: 0.0177 - val_categorical_accuracy: 0.9126 - val_loss: 0.6821\n",
      "Epoch 36/50\n",
      "\u001b[1m960/960\u001b[0m \u001b[32m━━━━━━━━━━━━━━━━━━━━\u001b[0m\u001b[37m\u001b[0m \u001b[1m4s\u001b[0m 4ms/step - categorical_accuracy: 0.9957 - loss: 0.0133 - val_categorical_accuracy: 0.9118 - val_loss: 0.7185\n",
      "Epoch 37/50\n",
      "\u001b[1m960/960\u001b[0m \u001b[32m━━━━━━━━━━━━━━━━━━━━\u001b[0m\u001b[37m\u001b[0m \u001b[1m4s\u001b[0m 4ms/step - categorical_accuracy: 0.9948 - loss: 0.0157 - val_categorical_accuracy: 0.9103 - val_loss: 0.6921\n",
      "Epoch 38/50\n",
      "\u001b[1m960/960\u001b[0m \u001b[32m━━━━━━━━━━━━━━━━━━━━\u001b[0m\u001b[37m\u001b[0m \u001b[1m4s\u001b[0m 4ms/step - categorical_accuracy: 0.9957 - loss: 0.0130 - val_categorical_accuracy: 0.9125 - val_loss: 0.7225\n",
      "Epoch 39/50\n",
      "\u001b[1m960/960\u001b[0m \u001b[32m━━━━━━━━━━━━━━━━━━━━\u001b[0m\u001b[37m\u001b[0m \u001b[1m4s\u001b[0m 4ms/step - categorical_accuracy: 0.9975 - loss: 0.0081 - val_categorical_accuracy: 0.9099 - val_loss: 0.7243\n",
      "Epoch 40/50\n",
      "\u001b[1m960/960\u001b[0m \u001b[32m━━━━━━━━━━━━━━━━━━━━\u001b[0m\u001b[37m\u001b[0m \u001b[1m4s\u001b[0m 4ms/step - categorical_accuracy: 0.9959 - loss: 0.0134 - val_categorical_accuracy: 0.9126 - val_loss: 0.7224\n",
      "Epoch 41/50\n",
      "\u001b[1m960/960\u001b[0m \u001b[32m━━━━━━━━━━━━━━━━━━━━\u001b[0m\u001b[37m\u001b[0m \u001b[1m4s\u001b[0m 4ms/step - categorical_accuracy: 0.9956 - loss: 0.0138 - val_categorical_accuracy: 0.9116 - val_loss: 0.8474\n",
      "Epoch 42/50\n",
      "\u001b[1m960/960\u001b[0m \u001b[32m━━━━━━━━━━━━━━━━━━━━\u001b[0m\u001b[37m\u001b[0m \u001b[1m4s\u001b[0m 4ms/step - categorical_accuracy: 0.9960 - loss: 0.0121 - val_categorical_accuracy: 0.9090 - val_loss: 0.7357\n",
      "Epoch 43/50\n",
      "\u001b[1m960/960\u001b[0m \u001b[32m━━━━━━━━━━━━━━━━━━━━\u001b[0m\u001b[37m\u001b[0m \u001b[1m4s\u001b[0m 4ms/step - categorical_accuracy: 0.9948 - loss: 0.0162 - val_categorical_accuracy: 0.9109 - val_loss: 0.8252\n",
      "Epoch 44/50\n",
      "\u001b[1m960/960\u001b[0m \u001b[32m━━━━━━━━━━━━━━━━━━━━\u001b[0m\u001b[37m\u001b[0m \u001b[1m4s\u001b[0m 4ms/step - categorical_accuracy: 0.9946 - loss: 0.0169 - val_categorical_accuracy: 0.9154 - val_loss: 0.7640\n",
      "Epoch 45/50\n",
      "\u001b[1m960/960\u001b[0m \u001b[32m━━━━━━━━━━━━━━━━━━━━\u001b[0m\u001b[37m\u001b[0m \u001b[1m4s\u001b[0m 4ms/step - categorical_accuracy: 0.9971 - loss: 0.0092 - val_categorical_accuracy: 0.9121 - val_loss: 0.7844\n",
      "Epoch 46/50\n",
      "\u001b[1m960/960\u001b[0m \u001b[32m━━━━━━━━━━━━━━━━━━━━\u001b[0m\u001b[37m\u001b[0m \u001b[1m4s\u001b[0m 4ms/step - categorical_accuracy: 0.9948 - loss: 0.0150 - val_categorical_accuracy: 0.9145 - val_loss: 0.7930\n",
      "Epoch 47/50\n",
      "\u001b[1m960/960\u001b[0m \u001b[32m━━━━━━━━━━━━━━━━━━━━\u001b[0m\u001b[37m\u001b[0m \u001b[1m4s\u001b[0m 4ms/step - categorical_accuracy: 0.9955 - loss: 0.0124 - val_categorical_accuracy: 0.9059 - val_loss: 0.8936\n",
      "Epoch 48/50\n",
      "\u001b[1m960/960\u001b[0m \u001b[32m━━━━━━━━━━━━━━━━━━━━\u001b[0m\u001b[37m\u001b[0m \u001b[1m4s\u001b[0m 4ms/step - categorical_accuracy: 0.9952 - loss: 0.0182 - val_categorical_accuracy: 0.9122 - val_loss: 0.8708\n",
      "Epoch 49/50\n",
      "\u001b[1m960/960\u001b[0m \u001b[32m━━━━━━━━━━━━━━━━━━━━\u001b[0m\u001b[37m\u001b[0m \u001b[1m4s\u001b[0m 4ms/step - categorical_accuracy: 0.9944 - loss: 0.0187 - val_categorical_accuracy: 0.9106 - val_loss: 0.8878\n",
      "Epoch 50/50\n",
      "\u001b[1m960/960\u001b[0m \u001b[32m━━━━━━━━━━━━━━━━━━━━\u001b[0m\u001b[37m\u001b[0m \u001b[1m4s\u001b[0m 4ms/step - categorical_accuracy: 0.9964 - loss: 0.0134 - val_categorical_accuracy: 0.9128 - val_loss: 0.8394\n"
     ]
    },
    {
     "data": {
      "text/plain": [
       "<keras.src.callbacks.history.History at 0x1ab8854a1b0>"
      ]
     },
     "execution_count": 17,
     "metadata": {},
     "output_type": "execute_result"
    }
   ],
   "source": [
    "model.fit(X_train, y_train, validation_split=0.2, epochs=50, batch_size=50)"
   ]
  }
 ],
 "metadata": {
  "kernelspec": {
   "display_name": "Python 3",
   "language": "python",
   "name": "python3"
  },
  "language_info": {
   "codemirror_mode": {
    "name": "ipython",
    "version": 3
   },
   "file_extension": ".py",
   "mimetype": "text/x-python",
   "name": "python",
   "nbconvert_exporter": "python",
   "pygments_lexer": "ipython3",
   "version": "3.12.4"
  }
 },
 "nbformat": 4,
 "nbformat_minor": 2
}
