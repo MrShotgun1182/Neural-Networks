{
 "cells": [
  {
   "cell_type": "markdown",
   "id": "5e4338c5",
   "metadata": {},
   "source": [
    "# learn torch NN\n",
    "Sinusoidal function prediction using neural networks in pytorch environment"
   ]
  },
  {
   "cell_type": "markdown",
   "id": "042fe3ff",
   "metadata": {},
   "source": [
    "## import need class in torch"
   ]
  },
  {
   "cell_type": "code",
   "execution_count": 1,
   "id": "00d2c665",
   "metadata": {},
   "outputs": [],
   "source": [
    "import torch\n",
    "import torch.nn as nn \n",
    "import torch.optim as optim"
   ]
  },
  {
   "cell_type": "markdown",
   "id": "586b904f",
   "metadata": {},
   "source": [
    "## make input and output"
   ]
  },
  {
   "cell_type": "code",
   "execution_count": 2,
   "id": "e0a25862",
   "metadata": {},
   "outputs": [],
   "source": [
    "x = torch.linspace(-torch.pi, torch.pi, 2000).unsqueeze(1)\n",
    "y = torch.sin(x)\n",
    "\n",
    "x = (x - x.mean()) / x.std()"
   ]
  },
  {
   "cell_type": "markdown",
   "id": "a13368a0",
   "metadata": {},
   "source": [
    "## make nn class"
   ]
  },
  {
   "cell_type": "code",
   "execution_count": 3,
   "id": "4bb5e258",
   "metadata": {},
   "outputs": [],
   "source": [
    "class simple_nn(nn.Module):\n",
    "    def __init__(self):\n",
    "        super(simple_nn, self).__init__()\n",
    "        self.l1 = nn.Linear(1, 8)\n",
    "        self.l2 = nn.Linear(8, 1)\n",
    "    \n",
    "    def forward(self, x):\n",
    "        x = torch.relu(self.l1(x))\n",
    "        x = self.l2(x)\n",
    "        return x\n",
    "\n",
    "model = simple_nn()\n",
    "    \n",
    "# tip: in this class we just can forward (not backprop)\n",
    "        "
   ]
  },
  {
   "cell_type": "markdown",
   "id": "6479282a",
   "metadata": {},
   "source": [
    "## make loss fuction and optimizer\n"
   ]
  },
  {
   "cell_type": "code",
   "execution_count": 4,
   "id": "ada00c8d",
   "metadata": {},
   "outputs": [],
   "source": [
    "loss = nn.MSELoss()\n",
    "opt = optim.Adam(model.parameters(), lr=1e-3)"
   ]
  },
  {
   "cell_type": "markdown",
   "id": "10b8ae04",
   "metadata": {},
   "source": [
    "## learning loop"
   ]
  },
  {
   "cell_type": "code",
   "execution_count": null,
   "id": "9f317b8b",
   "metadata": {},
   "outputs": [
    {
     "name": "stdout",
     "output_type": "stream",
     "text": [
      "torch.Size([2000, 1])\n",
      "99 0.1986514925956726\n",
      "199 0.15727993845939636\n",
      "299 0.1386958807706833\n",
      "399 0.12352363020181656\n",
      "499 0.110080286860466\n",
      "599 0.09775186330080032\n",
      "699 0.08866234123706818\n",
      "799 0.08078357577323914\n",
      "899 0.07360989600419998\n",
      "999 0.06703758239746094\n",
      "1099 0.061122164130210876\n",
      "1199 0.05440685898065567\n",
      "1299 0.043933022767305374\n",
      "1399 0.03253173828125\n",
      "1499 0.02288995310664177\n",
      "1599 0.01647603139281273\n",
      "1699 0.012159853242337704\n",
      "1799 0.009198218584060669\n",
      "1899 0.007129237055778503\n",
      "1999 0.005688083823770285\n",
      "R2 Score: 0.98862\n"
     ]
    }
   ],
   "source": [
    "print(x.shape)\n",
    "for t in range(2000):\n",
    "    y_pred = model(x) # its mean model.forward(x), in pytorch we can write this model(x)\n",
    "\n",
    "    loss_t = loss(y_pred, y)\n",
    "    if t % 100 == 99:\n",
    "        print(t, loss_t.item())\n",
    "    \n",
    "    # backprop\n",
    "    opt.zero_grad()\n",
    "    loss_t.backward()\n",
    "\n",
    "    # update weght\n",
    "    opt.step()\n",
    "    "
   ]
  },
  {
   "cell_type": "markdown",
   "id": "3d30d185",
   "metadata": {},
   "source": [
    "## Accuracy (R2)"
   ]
  },
  {
   "cell_type": "code",
   "execution_count": null,
   "id": "3e1eea7d",
   "metadata": {},
   "outputs": [],
   "source": [
    "with torch.no_grad():\n",
    "    ss_total = ((y - y.mean()) ** 2).sum()\n",
    "    ss_residual = ((y - y_pred) ** 2).sum()\n",
    "    r2_score = 1 - (ss_residual / ss_total)\n",
    "    print(f\"R2 Score: {r2_score:.4f}\")"
   ]
  }
 ],
 "metadata": {
  "kernelspec": {
   "display_name": "Python 3",
   "language": "python",
   "name": "python3"
  },
  "language_info": {
   "codemirror_mode": {
    "name": "ipython",
    "version": 3
   },
   "file_extension": ".py",
   "mimetype": "text/x-python",
   "name": "python",
   "nbconvert_exporter": "python",
   "pygments_lexer": "ipython3",
   "version": "3.12.6"
  }
 },
 "nbformat": 4,
 "nbformat_minor": 5
}
