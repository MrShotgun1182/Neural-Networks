{
 "cells": [
  {
   "cell_type": "markdown",
   "id": "ba617bee",
   "metadata": {},
   "source": [
    "# make neural network with numpy and math lib\n",
    "Designing a neural network to predict the behavior of the sinusoidal function"
   ]
  },
  {
   "cell_type": "markdown",
   "id": "bf4670b5",
   "metadata": {},
   "source": [
    "## import lib"
   ]
  },
  {
   "cell_type": "code",
   "execution_count": 1,
   "id": "595729ec",
   "metadata": {},
   "outputs": [],
   "source": [
    "import numpy as np\n",
    "import math"
   ]
  },
  {
   "cell_type": "markdown",
   "id": "dc62d917",
   "metadata": {},
   "source": [
    "## make random input and output"
   ]
  },
  {
   "cell_type": "code",
   "execution_count": 2,
   "id": "bcf0aaa9",
   "metadata": {},
   "outputs": [],
   "source": [
    "x = np.linspace(-math.pi, math.pi, 2000)\n",
    "y = np.sin(x)"
   ]
  },
  {
   "cell_type": "markdown",
   "id": "b96600ab",
   "metadata": {},
   "source": [
    "## Randomly initialize weights"
   ]
  },
  {
   "cell_type": "code",
   "execution_count": 3,
   "id": "6c161024",
   "metadata": {},
   "outputs": [],
   "source": [
    "a = np.random.randn()\n",
    "b = np.random.randn()\n",
    "c = np.random.randn()\n",
    "d = np.random.randn()"
   ]
  },
  {
   "cell_type": "markdown",
   "id": "7f964577",
   "metadata": {},
   "source": [
    "## cycle learning"
   ]
  },
  {
   "cell_type": "code",
   "execution_count": null,
   "id": "cfe224ac",
   "metadata": {},
   "outputs": [
    {
     "name": "stdout",
     "output_type": "stream",
     "text": [
      "99 9.795506560608375\n",
      "199 9.502291649521815\n",
      "299 9.297236237995296\n",
      "399 9.153740931036097\n",
      "499 9.053262477673266\n",
      "599 8.98286376690389\n",
      "699 8.933512193836577\n",
      "799 8.898896731858173\n",
      "899 8.874604874051116\n",
      "999 8.857549479747338\n",
      "1099 8.84556932137756\n",
      "1199 8.837150470692833\n",
      "1299 8.831231821832027\n",
      "1399 8.82706924453943\n",
      "1499 8.824140625754428\n",
      "1599 8.822079448288632\n",
      "1699 8.82062830088725\n",
      "1799 8.81960631890641\n",
      "1899 8.81888636805036\n",
      "1999 8.818379046783228\n",
      "2099 8.818021463721287\n",
      "2199 8.817769360810683\n",
      "2299 8.817591582178094\n",
      "2399 8.817466188368407\n",
      "2499 8.817377725333952\n",
      "2599 8.817315304231801\n",
      "2699 8.817271250789254\n",
      "2799 8.817240154947246\n",
      "2899 8.817218201924074\n",
      "2999 8.81720270121216\n",
      "3099 8.817191754839277\n",
      "3199 8.817184023649464\n",
      "3299 8.817178562596638\n",
      "3399 8.817174704642959\n",
      "3499 8.81717197889889\n",
      "3599 8.817170052893012\n",
      "3699 8.817168691850107\n",
      "3799 8.817167729960852\n",
      "3899 8.817167050108008\n",
      "3999 8.817166569557507\n",
      "4099 8.817166229857746\n",
      "4199 8.81716598970834\n",
      "4299 8.817165819924664\n",
      "4399 8.817165699881711\n",
      "4499 8.817165615002349\n",
      "4599 8.817165554983092\n",
      "4699 8.817165512540617\n",
      "4799 8.817165482526123\n",
      "4899 8.817165461299531\n",
      "4999 8.817165446287234\n",
      "result: y = -6.354060068021541e-06 + 0.8567403621156211 * x + 1.0961810937552323e-06 * x^2 + -0.09333032062848833 * x^3\n"
     ]
    }
   ],
   "source": [
    "lerning_rate = 1e-6 # 10^-6\n",
    "for t in range(5000):\n",
    "    # formol: y = a + b * x + c * x^2 + d * x^3\n",
    "    y_pred = a + (b * x) + (c * (x ** 2)) + (d * (x ** 3))\n",
    "\n",
    "    # comput loss per tern\n",
    "    loss = np.square(y_pred - y).sum() # Mean Squared Error (MSE)\n",
    "    if t % 100 == 99: # print per 100 tern\n",
    "        print(t, loss)\n",
    "\n",
    "    # backprop, comput gradients for a, b, c, d\n",
    "    grad_y_pred = 2 * (y_pred - y) # The reason for using this relation is to derive the derivative of the loss function.\n",
    "    grad_a = grad_y_pred.sum()\n",
    "    grad_b = (grad_y_pred * x).sum()\n",
    "    grad_c = (grad_y_pred * (x ** 2)).sum()\n",
    "    grad_d = (grad_y_pred * (x ** 3)).sum()\n",
    "\n",
    "    # update a, b, c, d\n",
    "    a -= lerning_rate * grad_a\n",
    "    b -= lerning_rate * grad_b\n",
    "    c -= lerning_rate * grad_c\n",
    "    d -= lerning_rate * grad_d\n",
    "\n",
    "print(F\"result: y = {a} + {b} * x + {c} * x^2 + {d} * x^3\")\n"
   ]
  }
 ],
 "metadata": {
  "kernelspec": {
   "display_name": "Python 3",
   "language": "python",
   "name": "python3"
  },
  "language_info": {
   "codemirror_mode": {
    "name": "ipython",
    "version": 3
   },
   "file_extension": ".py",
   "mimetype": "text/x-python",
   "name": "python",
   "nbconvert_exporter": "python",
   "pygments_lexer": "ipython3",
   "version": "3.12.6"
  }
 },
 "nbformat": 4,
 "nbformat_minor": 5
}
